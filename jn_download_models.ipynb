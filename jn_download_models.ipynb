{
 "cells": [
  {
   "cell_type": "code",
   "execution_count": null,
   "id": "f6bbda65-9869-4fbb-be85-c0b3a8308dd4",
   "metadata": {},
   "outputs": [],
   "source": [
    "# for translation model\n",
    "from transformers import MarianMTModel, MarianTokenizer\n",
    "\n",
    "# Define the model and tokenizer\n",
    "model_name = \"Helsinki-NLP/opus-mt-en-zh\"\n",
    "model = MarianMTModel.from_pretrained(model_name)\n",
    "tokenizer = MarianTokenizer.from_pretrained(model_name)\n",
    "\n",
    "# Save the model and tokenizer to a local directory\n",
    "local_directory = \"C:/myfiles/labs/AI/lab7/opus-mt-en-zh\"\n",
    "model.save_pretrained(local_directory)\n",
    "tokenizer.save_pretrained(local_directory)\n",
    "\n",
    "print(f\"Model and tokenizer saved to {local_directory}\")"
   ]
  },
  {
   "cell_type": "code",
   "execution_count": null,
   "id": "66adf68f-89cd-4a0d-be7d-0fdf2b28c501",
   "metadata": {},
   "outputs": [],
   "source": [
    "# Define the model and tokenizer\n",
    "model_name = \"Helsinki-NLP/opus-mt-zh-en\"\n",
    "model = MarianMTModel.from_pretrained(model_name)\n",
    "tokenizer = MarianTokenizer.from_pretrained(model_name)\n",
    "\n",
    "# Save the model and tokenizer to a local directory\n",
    "local_directory = \"C:/myfiles/labs/AI/lab7/opus-mt-zh-en\"\n",
    "model.save_pretrained(local_directory)\n",
    "tokenizer.save_pretrained(local_directory)\n",
    "\n",
    "print(f\"Model and tokenizer saved to {local_directory}\")"
   ]
  },
  {
   "cell_type": "code",
   "execution_count": null,
   "id": "c0c6111f-6455-41d8-9d07-c8e1a1f8091b",
   "metadata": {},
   "outputs": [],
   "source": [
    "# for grammar correction\n",
    "\n",
    "from transformers import T5ForConditionalGeneration, T5Tokenizer\n",
    "\n",
    "# Model name\n",
    "model_name = \"vennify/t5-base-grammar-correction\"\n",
    "\n",
    "# Load the model and tokenizer from the Hub\n",
    "model = T5ForConditionalGeneration.from_pretrained(model_name)\n",
    "tokenizer = T5Tokenizer.from_pretrained(model_name)\n",
    "\n",
    "# Specify the local directory where you want to save the model\n",
    "local_directory = \"C:/myfiles/labs/AI/lab7/t5_base_grammar_correction\"\n",
    "\n",
    "# Save the model and tokenizer to the local directory\n",
    "model.save_pretrained(local_directory)\n",
    "tokenizer.save_pretrained(local_directory)\n",
    "\n",
    "print(f\"Model and tokenizer saved to {local_directory}\")"
   ]
  }
 ],
 "metadata": {
  "kernelspec": {
   "display_name": "Python 3 (ipykernel)",
   "language": "python",
   "name": "python3"
  },
  "language_info": {
   "codemirror_mode": {
    "name": "ipython",
    "version": 3
   },
   "file_extension": ".py",
   "mimetype": "text/x-python",
   "name": "python",
   "nbconvert_exporter": "python",
   "pygments_lexer": "ipython3",
   "version": "3.11.5"
  }
 },
 "nbformat": 4,
 "nbformat_minor": 5
}
