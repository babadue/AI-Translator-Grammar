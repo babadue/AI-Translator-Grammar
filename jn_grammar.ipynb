{
 "cells": [
  {
   "cell_type": "code",
   "execution_count": null,
   "id": "14ac22b3-a6d5-4824-a9ce-d92ca14375f2",
   "metadata": {},
   "outputs": [],
   "source": [
    "from transformers import AutoModelForSeq2SeqLM\n",
    "from transformers import AutoTokenizer\n",
    "from transformers import GenerationConfig\n"
   ]
  },
  {
   "cell_type": "code",
   "execution_count": null,
   "id": "90e0a914-65fc-468a-b4dc-71541a3ad966",
   "metadata": {},
   "outputs": [],
   "source": [
    "model_name='vennify/t5-base-grammar-correction'\n",
    "\n",
    "model = AutoModelForSeq2SeqLM.from_pretrained(model_name)\n",
    "\n",
    "tokenizer = AutoTokenizer.from_pretrained(model_name, use_fast=True)"
   ]
  },
  {
   "cell_type": "code",
   "execution_count": null,
   "id": "fe230435-b0f2-445b-a11a-1fed0bba2284",
   "metadata": {},
   "outputs": [],
   "source": [
    "def correct_sentence(sentence):\n",
    "    inputs = tokenizer.encode(\"grammar: \" + sentence, return_tensors=\"pt\")\n",
    "    outputs = model.generate(inputs, max_length=128, do_sample=True)\n",
    "    corrected = tokenizer.decode(outputs[0], skip_special_tokens=True)\n",
    "    return corrected"
   ]
  },
  {
   "cell_type": "code",
   "execution_count": null,
   "id": "ba0c3381-d95b-4f02-966f-f3e2024e4d7f",
   "metadata": {},
   "outputs": [],
   "source": [
    "import panel as pn  # GUI\n",
    "pn.extension()\n",
    "\n",
    "def button_callback(event):\n",
    "    outputy.value = \"\"\n",
    "    outputx.value = f\"Input Text:  {input_text.value}\"\n",
    "    loading_spinner.visible = True\n",
    "    outputy.value = f\"Output Text:  {correct_sentence(input_text.value)}\"\n",
    "    loading_spinner.visible = False\n",
    "    input_text.value = \"\"\n",
    "\n",
    "# Create the components\n",
    "input_text = pn.widgets.TextInput(value='', placeholder='Enter text...')\n",
    "button = pn.widgets.Button(name='Correct', button_type='primary', width=100, align='center', margin=(0, 20, 0, 0), css_classes=['btn-primary'])\n",
    "outputx = pn.widgets.StaticText(value='')\n",
    "outputy = pn.widgets.StaticText(value='')\n",
    "loading_spinner = pn.indicators.LoadingSpinner(visible=False, value=True, width=50, height=50)  # Set width and height as needed\n",
    "\n",
    "# Define callbacks\n",
    "button.on_click(button_callback)\n",
    "\n",
    "# Create the app layout\n",
    "app = pn.Column(\n",
    "    \"## My Grammar Correction App\",\n",
    "    input_text,\n",
    "    pn.Row(button),\n",
    "    pn.Row(outputx, outputy),\n",
    "    pn.Row(loading_spinner, align='center')  # Align the spinner to the center\n",
    "    # loading_spinner\n",
    ")\n",
    "\n",
    "# Display the app\n",
    "app.servable()\n"
   ]
  },
  {
   "cell_type": "code",
   "execution_count": null,
   "id": "039fc00d-6dd3-4911-bae2-eb85eb9c4a60",
   "metadata": {},
   "outputs": [],
   "source": []
  },
  {
   "cell_type": "code",
   "execution_count": null,
   "id": "9b854786-27d0-4017-a8e1-dfad52aac431",
   "metadata": {},
   "outputs": [],
   "source": []
  },
  {
   "cell_type": "code",
   "execution_count": null,
   "id": "2ce3f03c-4e85-49cb-9d7f-823703435b95",
   "metadata": {},
   "outputs": [],
   "source": []
  }
 ],
 "metadata": {
  "kernelspec": {
   "display_name": "Python 3 (ipykernel)",
   "language": "python",
   "name": "python3"
  },
  "language_info": {
   "codemirror_mode": {
    "name": "ipython",
    "version": 3
   },
   "file_extension": ".py",
   "mimetype": "text/x-python",
   "name": "python",
   "nbconvert_exporter": "python",
   "pygments_lexer": "ipython3",
   "version": "3.11.5"
  }
 },
 "nbformat": 4,
 "nbformat_minor": 5
}
